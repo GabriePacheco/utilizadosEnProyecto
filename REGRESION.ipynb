{
 "cells": [
  {
   "cell_type": "markdown",
   "id": "ae0b5abe",
   "metadata": {},
   "source": [
    "## CREACIÓ DE MODELOS "
   ]
  },
  {
   "cell_type": "markdown",
   "id": "20773560",
   "metadata": {},
   "source": [
    "### 1. OBTENCION DE LOS DATOS "
   ]
  },
  {
   "cell_type": "code",
   "execution_count": 1,
   "id": "ee5a5b4b",
   "metadata": {},
   "outputs": [],
   "source": [
    "# importa librerias necesarias\n",
    "import pandas as pd \n",
    "import numpy as np \n"
   ]
  },
  {
   "cell_type": "code",
   "execution_count": 2,
   "id": "a62bdb6a",
   "metadata": {},
   "outputs": [
    {
     "data": {
      "text/html": [
       "<div>\n",
       "<style scoped>\n",
       "    .dataframe tbody tr th:only-of-type {\n",
       "        vertical-align: middle;\n",
       "    }\n",
       "\n",
       "    .dataframe tbody tr th {\n",
       "        vertical-align: top;\n",
       "    }\n",
       "\n",
       "    .dataframe thead th {\n",
       "        text-align: right;\n",
       "    }\n",
       "</style>\n",
       "<table border=\"1\" class=\"dataframe\">\n",
       "  <thead>\n",
       "    <tr style=\"text-align: right;\">\n",
       "      <th></th>\n",
       "      <th>Unnamed: 0</th>\n",
       "      <th>FECHA</th>\n",
       "      <th>VERSION</th>\n",
       "      <th>DURACION</th>\n",
       "      <th>TIPO</th>\n",
       "      <th>HORA</th>\n",
       "      <th>PROGRAMA</th>\n",
       "      <th>BREAK</th>\n",
       "      <th>TARIFA</th>\n",
       "      <th>CATEGORIA</th>\n",
       "      <th>ITEM</th>\n",
       "      <th>GENERO</th>\n",
       "      <th>SECCION</th>\n",
       "      <th>CIUDAD</th>\n",
       "      <th>CAMPAÑA</th>\n",
       "      <th>HORA_INICIO</th>\n",
       "      <th>HORA_FIN</th>\n",
       "      <th>RATING</th>\n",
       "      <th>TARGET</th>\n",
       "    </tr>\n",
       "  </thead>\n",
       "  <tbody>\n",
       "    <tr>\n",
       "      <th>0</th>\n",
       "      <td>87</td>\n",
       "      <td>2023-01-01</td>\n",
       "      <td>AVANCE DIARIO IV</td>\n",
       "      <td>40.0</td>\n",
       "      <td>AUTOPROMOCION</td>\n",
       "      <td>06:07</td>\n",
       "      <td>LARGOMETRAJE (M) (S-D)</td>\n",
       "      <td>1.0</td>\n",
       "      <td>133.333300</td>\n",
       "      <td>PROMOCION DEL CANAL</td>\n",
       "      <td>MASTER CHEF ECUADOR 4T</td>\n",
       "      <td>LARGOMETRAJE</td>\n",
       "      <td>A</td>\n",
       "      <td>QUITO</td>\n",
       "      <td>CONCURSO/ENTRETENIMIENTO</td>\n",
       "      <td>06:07:39</td>\n",
       "      <td>06:08:18</td>\n",
       "      <td>0.243378</td>\n",
       "      <td>18+</td>\n",
       "    </tr>\n",
       "    <tr>\n",
       "      <th>1</th>\n",
       "      <td>88</td>\n",
       "      <td>2023-01-01</td>\n",
       "      <td>AVANCE DIARIO</td>\n",
       "      <td>38.0</td>\n",
       "      <td>AUTOPROMOCION</td>\n",
       "      <td>06:08</td>\n",
       "      <td>LARGOMETRAJE (M) (S-D)</td>\n",
       "      <td>1.0</td>\n",
       "      <td>126.666635</td>\n",
       "      <td>PROMOCION DEL CANAL</td>\n",
       "      <td>IMPACTOS 2022</td>\n",
       "      <td>LARGOMETRAJE</td>\n",
       "      <td>A</td>\n",
       "      <td>QUITO</td>\n",
       "      <td>NOTICIERO</td>\n",
       "      <td>06:08:17</td>\n",
       "      <td>06:08:55</td>\n",
       "      <td>0.243378</td>\n",
       "      <td>18+</td>\n",
       "    </tr>\n",
       "    <tr>\n",
       "      <th>2</th>\n",
       "      <td>89</td>\n",
       "      <td>2023-01-01</td>\n",
       "      <td>AVANCE DIARIO</td>\n",
       "      <td>30.0</td>\n",
       "      <td>AUTOPROMOCION</td>\n",
       "      <td>06:23</td>\n",
       "      <td>LARGOMETRAJE (M) (S-D)</td>\n",
       "      <td>2.0</td>\n",
       "      <td>100.000000</td>\n",
       "      <td>PROMOCION DEL CANAL</td>\n",
       "      <td>REPRISE MUNDIAL CATAR 2022</td>\n",
       "      <td>LARGOMETRAJE</td>\n",
       "      <td>A</td>\n",
       "      <td>QUITO</td>\n",
       "      <td>DEPORTIVO</td>\n",
       "      <td>06:23:56</td>\n",
       "      <td>06:24:26</td>\n",
       "      <td>0.243378</td>\n",
       "      <td>18+</td>\n",
       "    </tr>\n",
       "  </tbody>\n",
       "</table>\n",
       "</div>"
      ],
      "text/plain": [
       "   Unnamed: 0       FECHA           VERSION  DURACION           TIPO   HORA  \\\n",
       "0          87  2023-01-01  AVANCE DIARIO IV      40.0  AUTOPROMOCION  06:07   \n",
       "1          88  2023-01-01     AVANCE DIARIO      38.0  AUTOPROMOCION  06:08   \n",
       "2          89  2023-01-01     AVANCE DIARIO      30.0  AUTOPROMOCION  06:23   \n",
       "\n",
       "                 PROGRAMA  BREAK      TARIFA            CATEGORIA  \\\n",
       "0  LARGOMETRAJE (M) (S-D)    1.0  133.333300  PROMOCION DEL CANAL   \n",
       "1  LARGOMETRAJE (M) (S-D)    1.0  126.666635  PROMOCION DEL CANAL   \n",
       "2  LARGOMETRAJE (M) (S-D)    2.0  100.000000  PROMOCION DEL CANAL   \n",
       "\n",
       "                         ITEM        GENERO SECCION CIUDAD  \\\n",
       "0      MASTER CHEF ECUADOR 4T  LARGOMETRAJE       A  QUITO   \n",
       "1               IMPACTOS 2022  LARGOMETRAJE       A  QUITO   \n",
       "2  REPRISE MUNDIAL CATAR 2022  LARGOMETRAJE       A  QUITO   \n",
       "\n",
       "                    CAMPAÑA HORA_INICIO  HORA_FIN    RATING TARGET  \n",
       "0  CONCURSO/ENTRETENIMIENTO    06:07:39  06:08:18  0.243378    18+  \n",
       "1                 NOTICIERO    06:08:17  06:08:55  0.243378    18+  \n",
       "2                 DEPORTIVO    06:23:56  06:24:26  0.243378    18+  "
      ]
     },
     "execution_count": 2,
     "metadata": {},
     "output_type": "execute_result"
    }
   ],
   "source": [
    "# cargar dataframe\n",
    "df = pd.read_csv( 'promocionales.csv.csv')\n",
    "df.head(3)"
   ]
  },
  {
   "cell_type": "code",
   "execution_count": 5,
   "id": "64bad336",
   "metadata": {},
   "outputs": [],
   "source": [
    "# limpiar y columnas \n",
    "df.drop(['Unnamed: 0', 'HORA_INICIO','HORA_FIN', 'HORA' ], axis = 1, inplace = True )\n"
   ]
  },
  {
   "cell_type": "code",
   "execution_count": 6,
   "id": "ffbf5b25",
   "metadata": {},
   "outputs": [
    {
     "data": {
      "text/html": [
       "<div>\n",
       "<style scoped>\n",
       "    .dataframe tbody tr th:only-of-type {\n",
       "        vertical-align: middle;\n",
       "    }\n",
       "\n",
       "    .dataframe tbody tr th {\n",
       "        vertical-align: top;\n",
       "    }\n",
       "\n",
       "    .dataframe thead th {\n",
       "        text-align: right;\n",
       "    }\n",
       "</style>\n",
       "<table border=\"1\" class=\"dataframe\">\n",
       "  <thead>\n",
       "    <tr style=\"text-align: right;\">\n",
       "      <th></th>\n",
       "      <th>FECHA</th>\n",
       "      <th>VERSION</th>\n",
       "      <th>DURACION</th>\n",
       "      <th>TIPO</th>\n",
       "      <th>PROGRAMA</th>\n",
       "      <th>BREAK</th>\n",
       "      <th>TARIFA</th>\n",
       "      <th>CATEGORIA</th>\n",
       "      <th>ITEM</th>\n",
       "      <th>GENERO</th>\n",
       "      <th>SECCION</th>\n",
       "      <th>CIUDAD</th>\n",
       "      <th>CAMPANIA</th>\n",
       "      <th>RATING</th>\n",
       "      <th>TARGET</th>\n",
       "    </tr>\n",
       "  </thead>\n",
       "  <tbody>\n",
       "    <tr>\n",
       "      <th>0</th>\n",
       "      <td>2023-01-01</td>\n",
       "      <td>AVANCE DIARIO IV</td>\n",
       "      <td>40.0</td>\n",
       "      <td>AUTOPROMOCION</td>\n",
       "      <td>LARGOMETRAJE (M) (S-D)</td>\n",
       "      <td>1.0</td>\n",
       "      <td>133.333300</td>\n",
       "      <td>PROMOCION DEL CANAL</td>\n",
       "      <td>MASTER CHEF ECUADOR 4T</td>\n",
       "      <td>LARGOMETRAJE</td>\n",
       "      <td>A</td>\n",
       "      <td>QUITO</td>\n",
       "      <td>CONCURSO/ENTRETENIMIENTO</td>\n",
       "      <td>0.243378</td>\n",
       "      <td>18+</td>\n",
       "    </tr>\n",
       "    <tr>\n",
       "      <th>1</th>\n",
       "      <td>2023-01-01</td>\n",
       "      <td>AVANCE DIARIO</td>\n",
       "      <td>38.0</td>\n",
       "      <td>AUTOPROMOCION</td>\n",
       "      <td>LARGOMETRAJE (M) (S-D)</td>\n",
       "      <td>1.0</td>\n",
       "      <td>126.666635</td>\n",
       "      <td>PROMOCION DEL CANAL</td>\n",
       "      <td>IMPACTOS 2022</td>\n",
       "      <td>LARGOMETRAJE</td>\n",
       "      <td>A</td>\n",
       "      <td>QUITO</td>\n",
       "      <td>NOTICIERO</td>\n",
       "      <td>0.243378</td>\n",
       "      <td>18+</td>\n",
       "    </tr>\n",
       "  </tbody>\n",
       "</table>\n",
       "</div>"
      ],
      "text/plain": [
       "        FECHA           VERSION  DURACION           TIPO  \\\n",
       "0  2023-01-01  AVANCE DIARIO IV      40.0  AUTOPROMOCION   \n",
       "1  2023-01-01     AVANCE DIARIO      38.0  AUTOPROMOCION   \n",
       "\n",
       "                 PROGRAMA  BREAK      TARIFA            CATEGORIA  \\\n",
       "0  LARGOMETRAJE (M) (S-D)    1.0  133.333300  PROMOCION DEL CANAL   \n",
       "1  LARGOMETRAJE (M) (S-D)    1.0  126.666635  PROMOCION DEL CANAL   \n",
       "\n",
       "                     ITEM        GENERO SECCION CIUDAD  \\\n",
       "0  MASTER CHEF ECUADOR 4T  LARGOMETRAJE       A  QUITO   \n",
       "1           IMPACTOS 2022  LARGOMETRAJE       A  QUITO   \n",
       "\n",
       "                   CAMPANIA    RATING TARGET  \n",
       "0  CONCURSO/ENTRETENIMIENTO  0.243378    18+  \n",
       "1                 NOTICIERO  0.243378    18+  "
      ]
     },
     "execution_count": 6,
     "metadata": {},
     "output_type": "execute_result"
    }
   ],
   "source": [
    "# renombrar columnas \n",
    "df.rename( columns =  {\"SECCION/BLOQUE\": 'SECCION', 'CAMPAÑA': 'CAMPANIA', 'Rat.Prom.Prog': 'RATING' }, inplace = True)\n",
    "df.head(2)"
   ]
  },
  {
   "cell_type": "markdown",
   "id": "46c56945",
   "metadata": {},
   "source": [
    "### 2. SEPARAR EN TRAIN Y TEST"
   ]
  },
  {
   "cell_type": "code",
   "execution_count": 13,
   "id": "b6a59847",
   "metadata": {},
   "outputs": [],
   "source": [
    "# importar librerias necesarias \n",
    "from sklearn.model_selection import train_test_split\n",
    "from sklearn.linear_model import LinearRegression, LogisticRegression\n",
    "from sklearn.preprocessing import LabelEncoder\n",
    "from sklearn.metrics import r2_score, mean_absolute_error, mean_squared_error\n"
   ]
  },
  {
   "cell_type": "code",
   "execution_count": 8,
   "id": "86c04e7a",
   "metadata": {},
   "outputs": [],
   "source": [
    "# separar datos en etiquetas y categorias \n",
    "X = df.drop(\"RATING\", axis = 1)\n",
    "y = df['RATING']\n",
    "\n"
   ]
  },
  {
   "cell_type": "code",
   "execution_count": 9,
   "id": "b04e10a5",
   "metadata": {},
   "outputs": [],
   "source": [
    "#PREPOSESAR CARACTERISTICAS\n",
    "encoder = LabelEncoder()\n",
    "for column in X.select_dtypes(include = ['object'] ).columns:\n",
    "    X[column] = encoder.fit_transform( X[column] )\n",
    "    \n"
   ]
  },
  {
   "cell_type": "code",
   "execution_count": 10,
   "id": "5b01061d",
   "metadata": {},
   "outputs": [],
   "source": [
    "#separar en train y test\n",
    "X_train, X_test, y_train, y_test = train_test_split(X, y, test_size= 0.20 , random_state = 42 )"
   ]
  },
  {
   "cell_type": "markdown",
   "id": "481282c9",
   "metadata": {},
   "source": [
    "### 3. ENTRENAR MODELO"
   ]
  },
  {
   "cell_type": "markdown",
   "id": "52085f77",
   "metadata": {},
   "source": [
    "*REGRESION LINEAL*"
   ]
  },
  {
   "cell_type": "code",
   "execution_count": 11,
   "id": "dbdf3ba9",
   "metadata": {},
   "outputs": [
    {
     "data": {
      "text/html": [
       "<style>#sk-container-id-1 {color: black;background-color: white;}#sk-container-id-1 pre{padding: 0;}#sk-container-id-1 div.sk-toggleable {background-color: white;}#sk-container-id-1 label.sk-toggleable__label {cursor: pointer;display: block;width: 100%;margin-bottom: 0;padding: 0.3em;box-sizing: border-box;text-align: center;}#sk-container-id-1 label.sk-toggleable__label-arrow:before {content: \"▸\";float: left;margin-right: 0.25em;color: #696969;}#sk-container-id-1 label.sk-toggleable__label-arrow:hover:before {color: black;}#sk-container-id-1 div.sk-estimator:hover label.sk-toggleable__label-arrow:before {color: black;}#sk-container-id-1 div.sk-toggleable__content {max-height: 0;max-width: 0;overflow: hidden;text-align: left;background-color: #f0f8ff;}#sk-container-id-1 div.sk-toggleable__content pre {margin: 0.2em;color: black;border-radius: 0.25em;background-color: #f0f8ff;}#sk-container-id-1 input.sk-toggleable__control:checked~div.sk-toggleable__content {max-height: 200px;max-width: 100%;overflow: auto;}#sk-container-id-1 input.sk-toggleable__control:checked~label.sk-toggleable__label-arrow:before {content: \"▾\";}#sk-container-id-1 div.sk-estimator input.sk-toggleable__control:checked~label.sk-toggleable__label {background-color: #d4ebff;}#sk-container-id-1 div.sk-label input.sk-toggleable__control:checked~label.sk-toggleable__label {background-color: #d4ebff;}#sk-container-id-1 input.sk-hidden--visually {border: 0;clip: rect(1px 1px 1px 1px);clip: rect(1px, 1px, 1px, 1px);height: 1px;margin: -1px;overflow: hidden;padding: 0;position: absolute;width: 1px;}#sk-container-id-1 div.sk-estimator {font-family: monospace;background-color: #f0f8ff;border: 1px dotted black;border-radius: 0.25em;box-sizing: border-box;margin-bottom: 0.5em;}#sk-container-id-1 div.sk-estimator:hover {background-color: #d4ebff;}#sk-container-id-1 div.sk-parallel-item::after {content: \"\";width: 100%;border-bottom: 1px solid gray;flex-grow: 1;}#sk-container-id-1 div.sk-label:hover label.sk-toggleable__label {background-color: #d4ebff;}#sk-container-id-1 div.sk-serial::before {content: \"\";position: absolute;border-left: 1px solid gray;box-sizing: border-box;top: 0;bottom: 0;left: 50%;z-index: 0;}#sk-container-id-1 div.sk-serial {display: flex;flex-direction: column;align-items: center;background-color: white;padding-right: 0.2em;padding-left: 0.2em;position: relative;}#sk-container-id-1 div.sk-item {position: relative;z-index: 1;}#sk-container-id-1 div.sk-parallel {display: flex;align-items: stretch;justify-content: center;background-color: white;position: relative;}#sk-container-id-1 div.sk-item::before, #sk-container-id-1 div.sk-parallel-item::before {content: \"\";position: absolute;border-left: 1px solid gray;box-sizing: border-box;top: 0;bottom: 0;left: 50%;z-index: -1;}#sk-container-id-1 div.sk-parallel-item {display: flex;flex-direction: column;z-index: 1;position: relative;background-color: white;}#sk-container-id-1 div.sk-parallel-item:first-child::after {align-self: flex-end;width: 50%;}#sk-container-id-1 div.sk-parallel-item:last-child::after {align-self: flex-start;width: 50%;}#sk-container-id-1 div.sk-parallel-item:only-child::after {width: 0;}#sk-container-id-1 div.sk-dashed-wrapped {border: 1px dashed gray;margin: 0 0.4em 0.5em 0.4em;box-sizing: border-box;padding-bottom: 0.4em;background-color: white;}#sk-container-id-1 div.sk-label label {font-family: monospace;font-weight: bold;display: inline-block;line-height: 1.2em;}#sk-container-id-1 div.sk-label-container {text-align: center;}#sk-container-id-1 div.sk-container {/* jupyter's `normalize.less` sets `[hidden] { display: none; }` but bootstrap.min.css set `[hidden] { display: none !important; }` so we also need the `!important` here to be able to override the default hidden behavior on the sphinx rendered scikit-learn.org. See: https://github.com/scikit-learn/scikit-learn/issues/21755 */display: inline-block !important;position: relative;}#sk-container-id-1 div.sk-text-repr-fallback {display: none;}</style><div id=\"sk-container-id-1\" class=\"sk-top-container\"><div class=\"sk-text-repr-fallback\"><pre>LinearRegression()</pre><b>In a Jupyter environment, please rerun this cell to show the HTML representation or trust the notebook. <br />On GitHub, the HTML representation is unable to render, please try loading this page with nbviewer.org.</b></div><div class=\"sk-container\" hidden><div class=\"sk-item\"><div class=\"sk-estimator sk-toggleable\"><input class=\"sk-toggleable__control sk-hidden--visually\" id=\"sk-estimator-id-1\" type=\"checkbox\" checked><label for=\"sk-estimator-id-1\" class=\"sk-toggleable__label sk-toggleable__label-arrow\">LinearRegression</label><div class=\"sk-toggleable__content\"><pre>LinearRegression()</pre></div></div></div></div></div>"
      ],
      "text/plain": [
       "LinearRegression()"
      ]
     },
     "execution_count": 11,
     "metadata": {},
     "output_type": "execute_result"
    }
   ],
   "source": [
    "lrm = LinearRegression()\n",
    "lrm.fit(X_train, y_train)\n"
   ]
  },
  {
   "cell_type": "markdown",
   "id": "1191d7b6",
   "metadata": {},
   "source": [
    "### 4. EVALUAR MODELO"
   ]
  },
  {
   "cell_type": "code",
   "execution_count": 12,
   "id": "bd6f8a45",
   "metadata": {},
   "outputs": [],
   "source": [
    "y_pred = lrm.predict(X_test)"
   ]
  },
  {
   "cell_type": "code",
   "execution_count": 16,
   "id": "f9a480b4",
   "metadata": {},
   "outputs": [
    {
     "name": "stdout",
     "output_type": "stream",
     "text": [
      "La mae : 0.70\n",
      "La mse : 1.13\n",
      "La presicion del modelo es : 27.55\n"
     ]
    }
   ],
   "source": [
    "score = r2_score(y_test, y_pred)\n",
    "mae = mean_absolute_error(y_test,y_pred)\n",
    "mse = mean_squared_error(y_test,y_pred)\n",
    "print(\"La mae : {:.2f}\".format(mae ))\n",
    "print(\"La mse : {:.2f}\".format(mse ))\n",
    "print(\"La presicion del modelo es : {:.2f}\".format(score * 100 ))"
   ]
  },
  {
   "cell_type": "markdown",
   "id": "85ea2033",
   "metadata": {},
   "source": [
    "_REGRESION LOGISTICA_"
   ]
  },
  {
   "cell_type": "code",
   "execution_count": 17,
   "id": "6c81ed56",
   "metadata": {},
   "outputs": [],
   "source": [
    "# separar datos en etiquetas y categorias \n",
    "X = df.drop(\"GENERO\", axis = 1)\n",
    "y = df['GENERO']\n",
    "\n"
   ]
  },
  {
   "cell_type": "code",
   "execution_count": 18,
   "id": "b5d03d14",
   "metadata": {},
   "outputs": [],
   "source": [
    "#PREPOSESAR CARACTERISTICAS\n",
    "encoder_logistic = LabelEncoder()\n",
    "for column in X.select_dtypes(include = ['object'] ).columns:\n",
    "    X[column] = encoder_logistic.fit_transform( X[column] )\n",
    "    \n"
   ]
  },
  {
   "cell_type": "code",
   "execution_count": 19,
   "id": "d92190ce",
   "metadata": {},
   "outputs": [],
   "source": [
    "#separar en train y test\n",
    "X_train, X_test, y_train, y_test = train_test_split(X, y, test_size= 0.20 , random_state = 42 )"
   ]
  },
  {
   "cell_type": "code",
   "execution_count": 20,
   "id": "726ffddb",
   "metadata": {},
   "outputs": [
    {
     "name": "stderr",
     "output_type": "stream",
     "text": [
      "C:\\Users\\gabio\\anaconda3\\Lib\\site-packages\\sklearn\\linear_model\\_logistic.py:458: ConvergenceWarning: lbfgs failed to converge (status=1):\n",
      "STOP: TOTAL NO. of ITERATIONS REACHED LIMIT.\n",
      "\n",
      "Increase the number of iterations (max_iter) or scale the data as shown in:\n",
      "    https://scikit-learn.org/stable/modules/preprocessing.html\n",
      "Please also refer to the documentation for alternative solver options:\n",
      "    https://scikit-learn.org/stable/modules/linear_model.html#logistic-regression\n",
      "  n_iter_i = _check_optimize_result(\n"
     ]
    },
    {
     "data": {
      "text/html": [
       "<style>#sk-container-id-2 {color: black;background-color: white;}#sk-container-id-2 pre{padding: 0;}#sk-container-id-2 div.sk-toggleable {background-color: white;}#sk-container-id-2 label.sk-toggleable__label {cursor: pointer;display: block;width: 100%;margin-bottom: 0;padding: 0.3em;box-sizing: border-box;text-align: center;}#sk-container-id-2 label.sk-toggleable__label-arrow:before {content: \"▸\";float: left;margin-right: 0.25em;color: #696969;}#sk-container-id-2 label.sk-toggleable__label-arrow:hover:before {color: black;}#sk-container-id-2 div.sk-estimator:hover label.sk-toggleable__label-arrow:before {color: black;}#sk-container-id-2 div.sk-toggleable__content {max-height: 0;max-width: 0;overflow: hidden;text-align: left;background-color: #f0f8ff;}#sk-container-id-2 div.sk-toggleable__content pre {margin: 0.2em;color: black;border-radius: 0.25em;background-color: #f0f8ff;}#sk-container-id-2 input.sk-toggleable__control:checked~div.sk-toggleable__content {max-height: 200px;max-width: 100%;overflow: auto;}#sk-container-id-2 input.sk-toggleable__control:checked~label.sk-toggleable__label-arrow:before {content: \"▾\";}#sk-container-id-2 div.sk-estimator input.sk-toggleable__control:checked~label.sk-toggleable__label {background-color: #d4ebff;}#sk-container-id-2 div.sk-label input.sk-toggleable__control:checked~label.sk-toggleable__label {background-color: #d4ebff;}#sk-container-id-2 input.sk-hidden--visually {border: 0;clip: rect(1px 1px 1px 1px);clip: rect(1px, 1px, 1px, 1px);height: 1px;margin: -1px;overflow: hidden;padding: 0;position: absolute;width: 1px;}#sk-container-id-2 div.sk-estimator {font-family: monospace;background-color: #f0f8ff;border: 1px dotted black;border-radius: 0.25em;box-sizing: border-box;margin-bottom: 0.5em;}#sk-container-id-2 div.sk-estimator:hover {background-color: #d4ebff;}#sk-container-id-2 div.sk-parallel-item::after {content: \"\";width: 100%;border-bottom: 1px solid gray;flex-grow: 1;}#sk-container-id-2 div.sk-label:hover label.sk-toggleable__label {background-color: #d4ebff;}#sk-container-id-2 div.sk-serial::before {content: \"\";position: absolute;border-left: 1px solid gray;box-sizing: border-box;top: 0;bottom: 0;left: 50%;z-index: 0;}#sk-container-id-2 div.sk-serial {display: flex;flex-direction: column;align-items: center;background-color: white;padding-right: 0.2em;padding-left: 0.2em;position: relative;}#sk-container-id-2 div.sk-item {position: relative;z-index: 1;}#sk-container-id-2 div.sk-parallel {display: flex;align-items: stretch;justify-content: center;background-color: white;position: relative;}#sk-container-id-2 div.sk-item::before, #sk-container-id-2 div.sk-parallel-item::before {content: \"\";position: absolute;border-left: 1px solid gray;box-sizing: border-box;top: 0;bottom: 0;left: 50%;z-index: -1;}#sk-container-id-2 div.sk-parallel-item {display: flex;flex-direction: column;z-index: 1;position: relative;background-color: white;}#sk-container-id-2 div.sk-parallel-item:first-child::after {align-self: flex-end;width: 50%;}#sk-container-id-2 div.sk-parallel-item:last-child::after {align-self: flex-start;width: 50%;}#sk-container-id-2 div.sk-parallel-item:only-child::after {width: 0;}#sk-container-id-2 div.sk-dashed-wrapped {border: 1px dashed gray;margin: 0 0.4em 0.5em 0.4em;box-sizing: border-box;padding-bottom: 0.4em;background-color: white;}#sk-container-id-2 div.sk-label label {font-family: monospace;font-weight: bold;display: inline-block;line-height: 1.2em;}#sk-container-id-2 div.sk-label-container {text-align: center;}#sk-container-id-2 div.sk-container {/* jupyter's `normalize.less` sets `[hidden] { display: none; }` but bootstrap.min.css set `[hidden] { display: none !important; }` so we also need the `!important` here to be able to override the default hidden behavior on the sphinx rendered scikit-learn.org. See: https://github.com/scikit-learn/scikit-learn/issues/21755 */display: inline-block !important;position: relative;}#sk-container-id-2 div.sk-text-repr-fallback {display: none;}</style><div id=\"sk-container-id-2\" class=\"sk-top-container\"><div class=\"sk-text-repr-fallback\"><pre>LogisticRegression()</pre><b>In a Jupyter environment, please rerun this cell to show the HTML representation or trust the notebook. <br />On GitHub, the HTML representation is unable to render, please try loading this page with nbviewer.org.</b></div><div class=\"sk-container\" hidden><div class=\"sk-item\"><div class=\"sk-estimator sk-toggleable\"><input class=\"sk-toggleable__control sk-hidden--visually\" id=\"sk-estimator-id-2\" type=\"checkbox\" checked><label for=\"sk-estimator-id-2\" class=\"sk-toggleable__label sk-toggleable__label-arrow\">LogisticRegression</label><div class=\"sk-toggleable__content\"><pre>LogisticRegression()</pre></div></div></div></div></div>"
      ],
      "text/plain": [
       "LogisticRegression()"
      ]
     },
     "execution_count": 20,
     "metadata": {},
     "output_type": "execute_result"
    }
   ],
   "source": [
    "lm = LogisticRegression() \n",
    "lm.fit(X_train, y_train)\n"
   ]
  },
  {
   "cell_type": "code",
   "execution_count": 21,
   "id": "1c37530a",
   "metadata": {},
   "outputs": [],
   "source": [
    "y_predL = lm.predict(X_test)"
   ]
  },
  {
   "cell_type": "code",
   "execution_count": 23,
   "id": "72d8ab9f",
   "metadata": {},
   "outputs": [],
   "source": [
    "from sklearn.metrics import accuracy_score"
   ]
  },
  {
   "cell_type": "code",
   "execution_count": 24,
   "id": "b84ab16d",
   "metadata": {},
   "outputs": [
    {
     "data": {
      "text/plain": [
       "0.49927604310583035"
      ]
     },
     "execution_count": 24,
     "metadata": {},
     "output_type": "execute_result"
    }
   ],
   "source": [
    "scoreL = accuracy_score( y_test, y_predL)\n",
    "scoreL"
   ]
  },
  {
   "cell_type": "code",
   "execution_count": null,
   "id": "9bbcc5fa",
   "metadata": {},
   "outputs": [],
   "source": []
  },
  {
   "cell_type": "code",
   "execution_count": null,
   "id": "202af6a4",
   "metadata": {},
   "outputs": [],
   "source": []
  },
  {
   "cell_type": "code",
   "execution_count": null,
   "id": "ac772442",
   "metadata": {},
   "outputs": [],
   "source": []
  },
  {
   "cell_type": "code",
   "execution_count": null,
   "id": "02d377a7",
   "metadata": {},
   "outputs": [],
   "source": []
  },
  {
   "cell_type": "code",
   "execution_count": null,
   "id": "7dd1c212",
   "metadata": {},
   "outputs": [],
   "source": []
  },
  {
   "cell_type": "code",
   "execution_count": null,
   "id": "d8bd424c",
   "metadata": {},
   "outputs": [],
   "source": []
  },
  {
   "cell_type": "code",
   "execution_count": null,
   "id": "d3a017c8",
   "metadata": {},
   "outputs": [],
   "source": []
  },
  {
   "cell_type": "code",
   "execution_count": null,
   "id": "094778f3",
   "metadata": {},
   "outputs": [],
   "source": []
  }
 ],
 "metadata": {
  "kernelspec": {
   "display_name": "Python 3 (ipykernel)",
   "language": "python",
   "name": "python3"
  },
  "language_info": {
   "codemirror_mode": {
    "name": "ipython",
    "version": 3
   },
   "file_extension": ".py",
   "mimetype": "text/x-python",
   "name": "python",
   "nbconvert_exporter": "python",
   "pygments_lexer": "ipython3",
   "version": "3.11.3"
  }
 },
 "nbformat": 4,
 "nbformat_minor": 5
}
